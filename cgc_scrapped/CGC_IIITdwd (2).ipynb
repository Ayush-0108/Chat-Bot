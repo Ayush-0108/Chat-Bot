{
 "cells": [
  {
   "cell_type": "code",
   "execution_count": 1,
   "id": "5e06a7f7-6721-4bc1-b885-be47657cc993",
   "metadata": {},
   "outputs": [
    {
     "name": "stdout",
     "output_type": "stream",
     "text": [
      "Why Recruit Us\n",
      "When it comes to recruiting top-notch candidates, IIIT Dharwad stands head and shoulders above the rest. Our institution isn't just a place of learning; it's a launchpad for exceptional careers.\n",
      "Students meet industry needs through specific objectives.\n",
      "Electives allow niche expertise development.\n",
      "Real-world projects enhance practical skills.\n",
      "Curriculum aligned with tech-driven industries.\n",
      "Blend of theory, soft skills, and projects.\n",
      "Diverse subjects promote problem-solving.\n",
      "Updated curriculum with industry feedback.\n",
      "Hackathons showcase practical skills.\n"
     ]
    }
   ],
   "source": [
    "import requests\n",
    "from bs4 import BeautifulSoup\n",
    "url = \"https://iiitdwd.ac.in/placements/#why-recruit-us\"\n",
    "response = requests.get(url)\n",
    "if response.status_code == 200:\n",
    "    soup = BeautifulSoup(response.text, 'html.parser')\n",
    "    section = soup.find('div', id='why-recruit-us')  # ID from the URL fragment\n",
    "\n",
    "    if section:\n",
    "        # Extract heading and all paragraph content\n",
    "        heading = section.find('h2').get_text(strip=True) if section.find('h2') else \"No Heading Found\"\n",
    "        paragraphs = section.find_all('p')\n",
    "        content = \"\\n\".join(p.get_text(strip=True) for p in paragraphs)\n",
    "\n",
    "        print(\"Why Recruit Us\")\n",
    "        print(content)\n",
    "    else:\n",
    "        print(\"Section with id='why-recruit-us' not found on the page.\")\n",
    "else:\n",
    "    print(f\"Failed to retrieve the webpage. Status code: {response.status_code}\")"
   ]
  },
  {
   "cell_type": "code",
   "execution_count": 2,
   "id": "012e1301-0aa8-4f83-9930-78b1aea4e535",
   "metadata": {},
   "outputs": [],
   "source": [
    "heading=\"Why Recruit Us\"\n",
    "content_list = [\"When it comes to recruiting top-notch candidates, IIIT Dharwad stands head and shoulders above the rest. Our institution isn't just a place of learning; it's a launchpad for exceptional careers.\",\n",
    "\"Students meet industry needs through specific objectives.\",\n",
    "\"Electives allow niche expertise development.\",\n",
    "\"Real-world projects enhance practical skills.\",\n",
    "\"Curriculum aligned with tech-driven industries.\",\n",
    "\"Blend of theory, soft skills, and projects.\",\n",
    "\"Diverse subjects promote problem-solving.\",\n",
    "\"Updated curriculum with industry feedback.\",\n",
    "\"Hackathons showcase practical skills.\"]"
   ]
  },
  {
   "cell_type": "code",
   "execution_count": 3,
   "id": "ceda31a0-fe0a-470c-b024-e806e84bcb33",
   "metadata": {},
   "outputs": [],
   "source": [
    "import csv\n",
    "\n",
    "# Write to CSV\n",
    "with open('why_recruit_us_.csv', mode='w', newline='', encoding='utf-8') as file:\n",
    "    writer = csv.writer(file)\n",
    "    writer.writerow(['Heading', 'Content'])  # CSV Header\n",
    "    for para in content_list:\n",
    "        writer.writerow([heading, para])"
   ]
  },
  {
   "cell_type": "code",
   "execution_count": 4,
   "id": "273162c7-c2ec-47dc-94b9-400c85c3fa57",
   "metadata": {},
   "outputs": [
    {
     "name": "stdout",
     "output_type": "stream",
     "text": [
      "Highest CTC\n",
      "Placement %\n",
      "Average CTC\n",
      "Median CTC\n",
      "Highest CTC\n",
      "We are delighted to invite your esteemed organization to participate in our campus recruitment program for the upcoming placement season. IIIT Dharwad, an Institute of National Importance established by the Ministry of Education, Government of India, is committed to producing highly skilled professionals in Information Technology and allied areas like Artificial Intelligence and Data Science. IIIT Dharwad offers BTech in Computer Science and Engineering, Data Science and Artificial Intelligence, and Electronics and Communication Engineering. It will in turn contribute by offering academic and research programs in information technology, computer science, data science and artificial intelligence and electronics and communication areas. IIIT Dharwad will go all out to establish industryacademia and national and international academic collaborations.\n",
      "Our institute boasts a diverse pool of talented students who have undergone rigorous academic training and practical exposure in various domains such as Computer Science, Data Science, Artificial Intelligence, Electronics and Communication and more. The curriculum at IIIT Dharwad is designed to foster innovation, critical thinking, research, and problem-solving skills, ensuring our graduates are well-equipped to meet the dynamic demands of the industry. We believe that our students can significantly contribute to the growth and success of your organization. By participating in our campus recruitment process, you will have the opportunity to interact with and recruit some of the brightest minds in the country. We offer a streamlined and efficient placement process and a dedicated placement team to ensure a smooth and productive recruitment experience under the aegis of Career Guidance Cell (CGC). The CGC is managed by a group of faculty members, staff and students. We look forward to a mutually beneficial relationship and are excited about the possibility of our students contributing to your esteemed organization. Please feel free to reach out to our Placement Office at “cgcoffice@iiitdwd.ac.in” and “cgc@iiitdwd.ac.in” for any further information or assistance. On behalf of the CGC team and the entire IIIT Dharwad, I look forward to welcoming you and your team for a successful and long-lasting engagement between the two organizations.\n",
      "The placement process begins with initialization by the placement cell.\n",
      "Pre placement talk is conducted.\n",
      "The placement process concludes when students receive their final offer letters.\n"
     ]
    }
   ],
   "source": [
    "from bs4 import BeautifulSoup\n",
    "import requests\n",
    "url = \"https://iiitdwd.ac.in/placements/#placement-statistics\"\n",
    "response = requests.get(url)\n",
    "soup = BeautifulSoup(response.content, 'html.parser')\n",
    "statistics_section = soup.find_all(['h4','p'])\n",
    "\n",
    "# Print text content that looks like placement stats\n",
    "placement_data = []\n",
    "for tag in statistics_section:\n",
    "    text = tag.get_text(strip=True)\n",
    "    if any(keyword in text.lower() for keyword in ['placement', 'ctc', 'highest', 'average', 'median']):\n",
    "        placement_data.append(text)\n",
    "        print(text)"
   ]
  },
  {
   "cell_type": "code",
   "execution_count": 5,
   "id": "c08c7ef7-221b-409b-9dbe-c1c59572a91c",
   "metadata": {},
   "outputs": [
    {
     "name": "stdout",
     "output_type": "stream",
     "text": [
      "saved as placement_statistics.csv\n"
     ]
    }
   ],
   "source": [
    "import csv\n",
    "\n",
    "with open('placement_statistics.csv',mode='w',newline='',encoding='utf-8')as file:\n",
    "    writer = csv.writer(file)\n",
    "    writer.writerow(['Placement Informstion'])\n",
    "\n",
    "    for line in placement_data:\n",
    "        writer.writerow([line])\n",
    "\n",
    "print(\"saved as placement_statistics.csv\")  "
   ]
  },
  {
   "cell_type": "code",
   "execution_count": 1,
   "id": "4ac37691-f876-40c1-9f59-43eec0954532",
   "metadata": {},
   "outputs": [],
   "source": [
    "import requests\n",
    "from bs4 import BeautifulSoup\n",
    "import csv\n",
    "url = \"https://iiitdwd.ac.in/placements/#contact\"\n",
    "response = requests.get(url)\n",
    "response.raise_for_status()\n",
    "soup = BeautifulSoup(response.text, 'html.parser')\n",
    "contact_section = soup.find(id=\"contact\")\n",
    "lines = contact_section.get_text(separator=\"\\n\", strip=True).split(\"\\n\")\n",
    "with open(\"iiitdwd_contact.csv\", \"w\", newline=\"\", encoding=\"utf-8\") as file:\n",
    "    writer = csv.writer(file)\n",
    "    writer.writerow([\"Field\", \"Value\"])  \n",
    "\n",
    "    for line in lines:\n",
    "       \n",
    "        if \":\" in line:\n",
    "            parts = line.split(\":\", 1)\n",
    "            writer.writerow([parts[0].strip(), parts[1].strip()])\n",
    "        else:\n",
    "            writer.writerow([\"Info\", line.strip()])\n"
   ]
  },
  {
   "cell_type": "code",
   "execution_count": null,
   "id": "9d50a00e-ddb4-4c91-bdcc-af601ff29ab0",
   "metadata": {},
   "outputs": [],
   "source": []
  }
 ],
 "metadata": {
  "kernelspec": {
   "display_name": "Python 3 (ipykernel)",
   "language": "python",
   "name": "python3"
  },
  "language_info": {
   "codemirror_mode": {
    "name": "ipython",
    "version": 3
   },
   "file_extension": ".py",
   "mimetype": "text/x-python",
   "name": "python",
   "nbconvert_exporter": "python",
   "pygments_lexer": "ipython3",
   "version": "3.13.1"
  }
 },
 "nbformat": 4,
 "nbformat_minor": 5
}
