{
 "cells": [
  {
   "cell_type": "code",
   "execution_count": 10,
   "id": "4a26f883",
   "metadata": {},
   "outputs": [
    {
     "data": {
      "text/plain": [
       "98"
      ]
     },
     "execution_count": 10,
     "metadata": {},
     "output_type": "execute_result"
    }
   ],
   "source": [
    "# Opening a csv file\n",
    "import csv\n",
    "file1 = open(\"administration.csv\", \"w+\")\n",
    "# Creating a csv writer object\n",
    "csv_writer = csv.writer(file1)  \n",
    "# Writing the header\n",
    "csv_writer.writerow([\"admin_id\", \"role_name\", \"person_name\", \"designation\", \"email\", \"phone\",\"office_location\",\"responsibilites\", \"image_url\"])"
   ]
  },
  {
   "cell_type": "code",
   "execution_count": 11,
   "id": "801848dc",
   "metadata": {},
   "outputs": [
    {
     "name": "stdout",
     "output_type": "stream",
     "text": [
      "Murmu\n",
      "Distinguished Visitor\n",
      "Smt. Droupadi Murmu\n",
      "The Hon'ble President of India\n",
      "AttributeError\n",
      "AttributeError\n",
      "Rashtrapati Bhavan, New Delhi, India\n",
      "We are honored to announce that the Hon'ble President of India, Smt. Droupadi Murmu is the Visitor of our Institute.\n",
      "https://iiitdwd.ac.in/images/droupadi_murmu.jpeg\n"
     ]
    }
   ],
   "source": [
    "# Visitor \n",
    "from bs4 import BeautifulSoup\n",
    "import requests\n",
    "\n",
    "url = \"https://iiitdwd.ac.in/visitor/\"\n",
    "response = requests.get(url)\n",
    "\n",
    "if response.status_code == 200:\n",
    "    soup = BeautifulSoup(response.content, 'html.parser')\n",
    "    #print(soup.prettify())\n",
    "    title = soup.find(\"div\", class_=\"text-center mb-8\")\n",
    "    role_name = title.h1.text\n",
    "    admin_id = \"AttributeError\"\n",
    "    person_name= soup.find(\"div\", class_=\"mb-6\").h2.text\n",
    "    designation = soup.find(\"div\", class_=\"mb-6\").p.text\n",
    "    admin_id = person_name.split(\" \")[-1]\n",
    "    email = \"AttributeError\"\n",
    "    phone = \"AttributeError\"\n",
    "    office_location = soup.find(\"div\", class_ = \"flex items-center gap-3\").span.text\n",
    "    responsibilities = soup.find(\"p\", class_=\"text-title-3 text-gray-600 mt-4 italic\").text\n",
    "    image_url = soup.find(\"div\", class_=\"absolute inset-0 rounded-full border-4 border-white shadow-lg overflow-hidden\").img['src']\n",
    "    print(admin_id)\n",
    "    print(role_name)\n",
    "    print(person_name)\n",
    "    print(designation)\n",
    "    print(email)\n",
    "    print(phone)\n",
    "    print(office_location)\n",
    "    print(responsibilities)\n",
    "    print(image_url)\n",
    "    # Writing the data to the csv file\n",
    "    csv_writer.writerow([admin_id, role_name, person_name, designation, email, phone, office_location, responsibilities, image_url])"
   ]
  },
  {
   "cell_type": "code",
   "execution_count": null,
   "id": "2f2ff96d",
   "metadata": {},
   "outputs": [],
   "source": []
  }
 ],
 "metadata": {
  "kernelspec": {
   "display_name": "aiml",
   "language": "python",
   "name": "aiml"
  },
  "language_info": {
   "codemirror_mode": {
    "name": "ipython",
    "version": 3
   },
   "file_extension": ".py",
   "mimetype": "text/x-python",
   "name": "python",
   "nbconvert_exporter": "python",
   "pygments_lexer": "ipython3",
   "version": "3.11.5"
  }
 },
 "nbformat": 4,
 "nbformat_minor": 5
}
